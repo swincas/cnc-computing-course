{
 "cells": [
  {
   "cell_type": "code",
   "execution_count": 1,
   "metadata": {},
   "outputs": [],
   "source": [
    "import numpy as np"
   ]
  },
  {
   "cell_type": "markdown",
   "metadata": {},
   "source": [
    "## Example data"
   ]
  },
  {
   "cell_type": "markdown",
   "metadata": {},
   "source": [
    "Crisp, clear skies cradled the quaint countryside. Cascading cherry blossoms danced in the gentle breeze, captivating curious critters that chirped cheerfully. Cloaked in a cloak of curiosity, a clever cat named Clementine crept cautiously through the cobblestone streets.\n",
    "\n",
    "Caught by the scent of freshly baked cookies, Clementine followed her nose to a cozy cottage nestled among cedar trees. Curious, she crept closer, craving a crumb of the confectionary delight. Cautiously, she climbed onto the windowsill, casting a curious glance inside.\n",
    "\n",
    "Cuddled by the fireplace, an elderly couple clinked their cups of cocoa, chuckling over cherished memories. Caught off guard, they caught sight of Clementine, their eyes widening in surprise. Chuckling, the couple welcomed the curious cat inside, sharing their cookies and tales of their travels.\n",
    "\n",
    "Content and cozy, Clementine curled up by the crackling fire, her curiosity satisfied. In that charming cottage, amidst laughter and companionship, Clementine discovered that sometimes, the sweetest moments come from embracing curiosity and connecting with kindred spirits."
   ]
  },
  {
   "cell_type": "code",
   "execution_count": 2,
   "metadata": {},
   "outputs": [],
   "source": [
    "story = ['Crisp, clear skies cradled the quaint countryside. ',\n",
    "         'Cascading cherry blossoms danced in the gentle breeze, captivating curious critters that chirped cheerfully. ',\n",
    "         'Cloaked in a cloak of curiosity, a clever cat named Clementine crept cautiously through the cobblestone streets.\\n ',\n",
    "         'Caught by the scent of freshly baked cookies, Clementine followed her nose to a cozy cottage nestled among cedar trees. ',\n",
    "         'Curious, she crept closer, craving a crumb of the confectionary delight. ',\n",
    "         'Cautiously, she climbed onto the windowsill, casting a curious glance inside.\\n ',\n",
    "         'Cuddled by the fireplace, an elderly couple clinked their cups of cocoa, chuckling over cherished memories. ',\n",
    "         'Caught off guard, they caught sight of Clementine, their eyes widening in surprise. ',\n",
    "         'Chuckling, the couple welcomed the curious cat inside, sharing their cookies and tales of their travels.\\n ',\n",
    "         'Content and cozy, Clementine curled up by the crackling fire, her curiosity satisfied. ',\n",
    "         'In that charming cottage, amidst laughter and companionship, Clementine discovered that sometimes, the sweetest moments come from embracing curiosity and connecting with kindred spirits. ']"
   ]
  },
  {
   "cell_type": "markdown",
   "metadata": {},
   "source": [
    "## Suboptimal Code Example"
   ]
  },
  {
   "cell_type": "code",
   "execution_count": 3,
   "metadata": {},
   "outputs": [
    {
     "name": "stdout",
     "output_type": "stream",
     "text": [
      "64\n"
     ]
    }
   ],
   "source": [
    "cs = 0 # count of words starting with 'C' or 'c'\n",
    "tale_string = ''\n",
    "for el in story: # iterate through elements in story\n",
    "    tale_string += el\n",
    "a = tale_string.split()\n",
    "for alet in a:\n",
    "    if alet.startswith('C') or alet.startswith('c'):\n",
    "        cs += 1\n",
    "print(cs)"
   ]
  },
  {
   "cell_type": "markdown",
   "metadata": {},
   "source": [
    "## Good Code Example"
   ]
  },
  {
   "cell_type": "code",
   "execution_count": 4,
   "metadata": {},
   "outputs": [],
   "source": [
    "def count_words_with_starting_letter(str, letters=['C', 'c']):\n",
    "    cap_letter, min_letter = letters[0], letters[1] # get the capital and minor letter\n",
    "    words = str.split() # Split the string into individual words\n",
    "    \n",
    "    # Initialize a counter for words starting with 'C' or 'c\n",
    "    c_count = 0 \n",
    "\n",
    "    # count the words using list comprehension\n",
    "    c_count = sum([1 for word in words if word.startswith(cap_letter) or word.startswith(min_letter)])\n",
    "\n",
    "    return c_count"
   ]
  },
  {
   "cell_type": "code",
   "execution_count": 5,
   "metadata": {},
   "outputs": [],
   "source": [
    "def count_words_with_starting_letter(str, letters=['C', 'c']):\n",
    "    '''\n",
    "    Count the number of words in a string that start with a specified letter\n",
    "\n",
    "    Input:\n",
    "    str (string): a string of words separated by spaces\n",
    "    letters (list): a list of two strings, the first element is the capital letter to search for, the second element is the lowercase letter to search for\n",
    "\n",
    "    Returns:\n",
    "    c_count (int): the number of words in the string that fulfil the criteria\n",
    "    '''\n",
    "    # prepare necessary variables\n",
    "    cap_letter, min_letter = letters[0], letters[1] # get the capital and minor letter\n",
    "    words = str.split() # Split the string into individual words\n",
    "    c_count = 0 # Initialize a counter for words starting with 'C'\n",
    "\n",
    "    # count the words using list comprehension\n",
    "    c_count = sum([1 for word in words if word.startswith(cap_letter) or word.startswith(min_letter)])\n",
    "\n",
    "    return c_count"
   ]
  },
  {
   "cell_type": "code",
   "execution_count": 6,
   "metadata": {},
   "outputs": [
    {
     "name": "stdout",
     "output_type": "stream",
     "text": [
      "64\n"
     ]
    }
   ],
   "source": [
    "print(count_words_with_starting_letter(''.join(story), letters=['C', 'c']))"
   ]
  },
  {
   "cell_type": "markdown",
   "metadata": {},
   "source": [
    "## Test functions"
   ]
  },
  {
   "cell_type": "code",
   "execution_count": 15,
   "metadata": {},
   "outputs": [],
   "source": [
    "def test_count_words_with_capital_letter():\n",
    "        # Test with a string that contains words starting with the capital letter 'C'\n",
    "        input_str = \"Cat Car Cow\"\n",
    "        expected_output = 3\n",
    "        assert count_words_with_starting_letter(input_str) == expected_output\n",
    "\n",
    "        # Test with a string that does not contain any words starting with the capital letter 'C'\n",
    "        input_str = \"dog elephant tiger\"\n",
    "        expected_output = 0\n",
    "        assert count_words_with_starting_letter(input_str) == expected_output\n",
    "\n",
    "        # Test with an empty string\n",
    "        input_str = \"\"\n",
    "        expected_output = 0\n",
    "        assert count_words_with_starting_letter(input_str) == expected_output"
   ]
  },
  {
   "cell_type": "code",
   "execution_count": 16,
   "metadata": {},
   "outputs": [],
   "source": [
    "def test_output_type():\n",
    "        input_str = \"Cat Car Cow\"\n",
    "        assert isinstance(count_words_with_starting_letter(input_str), int)\n",
    "\n",
    "        input_str = \"dog elephant tiger\"\n",
    "        assert isinstance(count_words_with_starting_letter(input_str), int)\n",
    "\n",
    "        input_str = \"\"\n",
    "        assert isinstance(count_words_with_starting_letter(input_str), int)"
   ]
  },
  {
   "cell_type": "code",
   "execution_count": 17,
   "metadata": {},
   "outputs": [],
   "source": [
    "test_count_words_with_capital_letter()"
   ]
  },
  {
   "cell_type": "code",
   "execution_count": 14,
   "metadata": {},
   "outputs": [],
   "source": [
    "test_output_type()"
   ]
  },
  {
   "cell_type": "code",
   "execution_count": null,
   "metadata": {},
   "outputs": [],
   "source": [
    "def test_single_word_input():\n",
    "        # Test with a string that contains one word starting with the capital letter 'C'\n",
    "        input_str = \"Cat\"\n",
    "        expected_output = 1\n",
    "        assert count_words_with_starting_letter(input_str) == expected_output\n",
    "\n",
    "        # Test with a string that contains one word starting with the lowercase letter 'c'\n",
    "        input_str = \"cat\"\n",
    "        expected_output = 1\n",
    "        assert count_words_with_starting_letter(input_str) == expected_output\n",
    "\n",
    "        # Test with a string that does not contain any words starting with the capital or lowercase letter 'C'\n",
    "        input_str = \"dog\"\n",
    "        expected_output = 0\n",
    "        assert count_words_with_starting_letter(input_str) == expected_output\n",
    "\n",
    "        # Test with an empty string\n",
    "        input_str = \"\"\n",
    "        expected_output = 0\n",
    "        assert count_words_with_starting_letter(input_str) == expected_output"
   ]
  },
  {
   "cell_type": "code",
   "execution_count": null,
   "metadata": {},
   "outputs": [],
   "source": [
    "def test_correctly_handles_string_with_one_letter():\n",
    "        # Test with a string that contains only one letter\n",
    "        input_str = \"C\"\n",
    "        expected_output = 1\n",
    "        assert count_words_with_starting_letter(input_str) == expected_output\n",
    "\n",
    "        # Test with a string that contains only one letter in lowercase\n",
    "        input_str = \"c\"\n",
    "        expected_output = 1\n",
    "        assert count_words_with_starting_letter(input_str) == expected_output\n",
    "\n",
    "        # Test with a string that contains only one letter in uppercase and lowercase\n",
    "        input_str = \"C c\"\n",
    "        expected_output = 2\n",
    "        assert count_words_with_starting_letter(input_str) == expected_output\n",
    "\n",
    "        # Test with an empty string\n",
    "        input_str = \"\"\n",
    "        expected_output = 0\n",
    "        assert count_words_with_starting_letter(input_str) == expected_output"
   ]
  },
  {
   "cell_type": "code",
   "execution_count": null,
   "metadata": {},
   "outputs": [],
   "source": [
    "def test_behaviour_no_matching_letters():\n",
    "        # Test with a string that does not contain any words starting with the specified letters\n",
    "        input_str = \"dog elephant tiger\"\n",
    "        expected_output = 0\n",
    "        assert count_words_with_starting_letter(input_str) == expected_output\n",
    "\n",
    "        # Test with an empty string\n",
    "        input_str = \"\"\n",
    "        expected_output = 0\n",
    "        assert count_words_with_starting_letter(input_str) == expected_output"
   ]
  },
  {
   "cell_type": "code",
   "execution_count": null,
   "metadata": {},
   "outputs": [],
   "source": [
    "def test_special_characters():\n",
    "        # Test with a string that contains words with special characters\n",
    "        input_str = \"Cat! Car? Cow#\"\n",
    "        expected_output = 3\n",
    "        assert count_words_with_starting_letter(input_str) == expected_output\n",
    "\n",
    "        # Test with a string that contains words with special characters and starts with the capital letter 'C'\n",
    "        input_str = \"Cat! Car? Cow#\"\n",
    "        expected_output = 2\n",
    "        assert count_words_with_starting_letter(input_str, letters=['C', 'c']) == expected_output\n",
    "\n",
    "        # Test with a string that contains words with special characters and starts with the lowercase letter 'c'\n",
    "        input_str = \"Cat! Car? Cow#\"\n",
    "        expected_output = 1\n",
    "        assert count_words_with_starting_letter(input_str, letters=['C', 'c']) == expected_output\n",
    "\n",
    "        # Test with a string that does not contain any words starting with the capital letter 'C'\n",
    "        input_str = \"dog elephant tiger\"\n",
    "        expected_output = 0\n",
    "        assert count_words_with_starting_letter(input_str) == expected_output\n",
    "\n",
    "        # Test with an empty string\n",
    "        input_str = \"\"\n",
    "        expected_output = 0\n",
    "        assert count_words_with_starting_letter(input_str) == expected_output"
   ]
  }
 ],
 "metadata": {
  "kernelspec": {
   "display_name": "py311",
   "language": "python",
   "name": "python3"
  },
  "language_info": {
   "codemirror_mode": {
    "name": "ipython",
    "version": 3
   },
   "file_extension": ".py",
   "mimetype": "text/x-python",
   "name": "python",
   "nbconvert_exporter": "python",
   "pygments_lexer": "ipython3",
   "version": "3.11.5"
  }
 },
 "nbformat": 4,
 "nbformat_minor": 2
}
