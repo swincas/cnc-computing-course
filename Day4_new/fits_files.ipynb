{
 "cells": [
  {
   "cell_type": "code",
   "execution_count": 14,
   "metadata": {},
   "outputs": [],
   "source": [
    "import numpy as np\n",
    "from astropy.table import Table, Column\n",
    "from astropy.io import fits"
   ]
  },
  {
   "cell_type": "markdown",
   "metadata": {},
   "source": [
    "## Creating a fits file"
   ]
  },
  {
   "cell_type": "code",
   "execution_count": 15,
   "metadata": {},
   "outputs": [],
   "source": [
    "# generate some random data\n",
    "ra = np.random.uniform(215., 215.5, 20)\n",
    "dec = np.random.uniform(2., 2.2, 20)\n",
    "v = np.random.uniform(1700., 1800., 20)\n",
    "dv = np.random.uniform(4., 10., 20)\n"
   ]
  },
  {
   "cell_type": "code",
   "execution_count": 16,
   "metadata": {},
   "outputs": [],
   "source": [
    "# initialise the table\n",
    "mock_data = Table()\n",
    "mock_data['object'] = Column(['Blurb'] * len(ra), dtype='S10')\n",
    "mock_data['ra'] = Column(ra, dtype='f8')\n",
    "mock_data['dec'] = Column(dec, dtype='f8')\n",
    "mock_data['v'] = Column(v, dtype='f8')\n",
    "mock_data['dv'] = Column(dv, dtype='f8')\n"
   ]
  },
  {
   "cell_type": "code",
   "execution_count": 17,
   "metadata": {},
   "outputs": [
    {
     "name": "stdout",
     "output_type": "stream",
     "text": [
      "object         ra         ...         v                  dv       \n",
      "------ ------------------ ... ------------------ -----------------\n",
      " Blurb 215.08387571579172 ... 1714.5396897097585 8.238265729116437\n",
      " Blurb  215.0873181675568 ... 1700.0842087653502 4.956962085526282\n",
      " Blurb 215.27918197187284 ... 1762.2908961193452 5.097203296277878\n",
      " Blurb 215.37915195534046 ... 1768.3162581454953 9.099959085932333\n",
      " Blurb  215.4331773171469 ... 1702.5651596863627  5.26239784814799\n",
      " Blurb 215.29610631071753 ... 1792.4815130955935 6.743507584022029\n",
      " Blurb  215.2527860270081 ... 1723.1991951576822 8.215244588350565\n",
      " Blurb 215.29352946005264 ... 1791.2662394649528  8.92512692934994\n",
      " Blurb 215.15906840241468 ...  1778.183628732816 6.112920719130958\n",
      " Blurb 215.00963720682753 ... 1754.3372227563473  4.06590430418531\n",
      " Blurb 215.06787620236796 ... 1744.4020696783577 9.089738684047997\n",
      " Blurb 215.40598155264104 ... 1759.8331706164554 7.227221359949455\n",
      " Blurb 215.44818221702326 ... 1785.9433594526565 5.526155476059413\n",
      " Blurb  215.0109495450435 ... 1730.5330416143536 5.606624393267268\n",
      " Blurb 215.05550424111948 ... 1706.8343919119814 9.185455594114199\n",
      " Blurb 215.12557752137397 ... 1796.5319506914307 6.674739392821218\n",
      " Blurb 215.02159956112214 ... 1710.0356798208918 9.011020203986373\n",
      " Blurb 215.46290754024636 ... 1749.0133702426888 4.870354872559206\n",
      " Blurb 215.23194541777985 ...  1768.172967599353 4.340732554539396\n",
      " Blurb  215.1344012462594 ...  1798.346926779217  8.11072517249832\n"
     ]
    }
   ],
   "source": [
    "print(mock_data)"
   ]
  },
  {
   "cell_type": "code",
   "execution_count": 20,
   "metadata": {},
   "outputs": [],
   "source": [
    "# save as fits file\n",
    "mock_data.write('mock_data.fits', overwrite=True)"
   ]
  },
  {
   "cell_type": "markdown",
   "metadata": {},
   "source": [
    "## Updating a fits file"
   ]
  },
  {
   "cell_type": "code",
   "execution_count": 38,
   "metadata": {},
   "outputs": [],
   "source": [
    "with fits.open('mock_data.fits') as hdu:\n",
    "    mock_header = hdu[0].header\n",
    "    mock_data = hdu[0].data\n"
   ]
  },
  {
   "cell_type": "code",
   "execution_count": 25,
   "metadata": {},
   "outputs": [
    {
     "data": {
      "text/plain": [
       "SIMPLE  =                    T / conforms to FITS standard                      \n",
       "BITPIX  =                    8 / array data type                                \n",
       "NAXIS   =                    0 / number of array dimensions                     \n",
       "EXTEND  =                    T                                                  \n",
       "OBJECT  = 'Mock data'                                                           "
      ]
     },
     "execution_count": 25,
     "metadata": {},
     "output_type": "execute_result"
    }
   ],
   "source": [
    "mock_header['OBJECT'] = 'Mock data'\n",
    "mock_header"
   ]
  },
  {
   "cell_type": "code",
   "execution_count": 26,
   "metadata": {},
   "outputs": [],
   "source": [
    "with fits.open('mock_data.fits') as hdu:\n",
    "    mock_header2 = hdu[0].header"
   ]
  },
  {
   "cell_type": "code",
   "execution_count": 27,
   "metadata": {},
   "outputs": [
    {
     "data": {
      "text/plain": [
       "SIMPLE  =                    T / conforms to FITS standard                      \n",
       "BITPIX  =                    8 / array data type                                \n",
       "NAXIS   =                    0 / number of array dimensions                     \n",
       "EXTEND  =                    T                                                  "
      ]
     },
     "execution_count": 27,
     "metadata": {},
     "output_type": "execute_result"
    }
   ],
   "source": [
    "mock_header2"
   ]
  },
  {
   "cell_type": "code",
   "execution_count": 32,
   "metadata": {},
   "outputs": [],
   "source": [
    "with fits.open('mock_data.fits', 'update') as hdu:\n",
    "    mock_header['test'] = 'comment'\n",
    "    hdu[0].header['OBJECT'] = 'Mock data'\n",
    "    hdu[0].header['ra'] = 'Right Ascension (deg)'\n",
    "    hdu[0].header['dec'] = 'Declination (deg)'\n",
    "    hdu[0].header['v'] = 'Velocity (km/s)'\n",
    "    hdu[0].header['dv'] = 'Velocity error (km/s)'"
   ]
  },
  {
   "cell_type": "code",
   "execution_count": 33,
   "metadata": {},
   "outputs": [
    {
     "data": {
      "text/plain": [
       "SIMPLE  =                    T / conforms to FITS standard                      \n",
       "BITPIX  =                    8 / array data type                                \n",
       "NAXIS   =                    0 / number of array dimensions                     \n",
       "EXTEND  =                    T                                                  \n",
       "OBJECT  = 'Mock data'                                                           \n",
       "TEST    = 'comment '                                                            "
      ]
     },
     "execution_count": 33,
     "metadata": {},
     "output_type": "execute_result"
    }
   ],
   "source": [
    "mock_header"
   ]
  },
  {
   "cell_type": "code",
   "execution_count": 34,
   "metadata": {},
   "outputs": [],
   "source": [
    "with fits.open('mock_data.fits') as hdu:\n",
    "    mock_header_updated = hdu[0].header"
   ]
  },
  {
   "cell_type": "code",
   "execution_count": 35,
   "metadata": {},
   "outputs": [
    {
     "data": {
      "text/plain": [
       "SIMPLE  =                    T / conforms to FITS standard                      \n",
       "BITPIX  =                    8 / array data type                                \n",
       "NAXIS   =                    0 / number of array dimensions                     \n",
       "EXTEND  =                    T                                                  \n",
       "OBJECT  = 'Mock data'                                                           \n",
       "RA      = 'Right Ascension (deg)'                                               \n",
       "DEC     = 'Declination (deg)'                                                   \n",
       "V       = 'Velocity (km/s)'                                                     \n",
       "DV      = 'Velocity error (km/s)'                                               "
      ]
     },
     "execution_count": 35,
     "metadata": {},
     "output_type": "execute_result"
    }
   ],
   "source": [
    "mock_header_updated\n",
    "    "
   ]
  },
  {
   "cell_type": "code",
   "execution_count": null,
   "metadata": {},
   "outputs": [],
   "source": []
  }
 ],
 "metadata": {
  "kernelspec": {
   "display_name": "py311",
   "language": "python",
   "name": "python3"
  },
  "language_info": {
   "codemirror_mode": {
    "name": "ipython",
    "version": 3
   },
   "file_extension": ".py",
   "mimetype": "text/x-python",
   "name": "python",
   "nbconvert_exporter": "python",
   "pygments_lexer": "ipython3",
   "version": "3.11.5"
  }
 },
 "nbformat": 4,
 "nbformat_minor": 2
}
