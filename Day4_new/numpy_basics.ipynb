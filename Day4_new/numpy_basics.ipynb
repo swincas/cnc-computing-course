{
 "cells": [
  {
   "cell_type": "markdown",
   "metadata": {},
   "source": [
    "# Numpy Basics.\n",
    "\n",
    "The purpose of this tutorial is to understand what numpy is, how it differs from vanilla python coding, and how to fully take advantage of numpy to accelerate your code to the max!\n"
   ]
  },
  {
   "cell_type": "markdown",
   "metadata": {},
   "source": [
    "# Contents\n",
    "\n",
    "1. Numpy vs python, what makes them different?\n",
    "2. The basics of numpy arrays, indexing, assignments and operations\n",
    "3. Typecasting and views\n",
    "4. Useful methods, size, shape, max/min\n",
    "5. Broadcasting\n",
    "6. All about boolean indexing\n",
    "7. Extra numpy functions (.nan)\n",
    "8. Loading and saving numpy data\n",
    "9. Other cool numpy features\n",
    "\n",
    "\n"
   ]
  },
  {
   "cell_type": "code",
   "execution_count": 3,
   "metadata": {},
   "outputs": [],
   "source": [
    "# imports\n",
    "import numpy as np"
   ]
  },
  {
   "cell_type": "markdown",
   "metadata": {},
   "source": [
    "#"
   ]
  },
  {
   "cell_type": "markdown",
   "metadata": {},
   "source": [
    "#"
   ]
  },
  {
   "cell_type": "markdown",
   "metadata": {},
   "source": [
    "#"
   ]
  },
  {
   "cell_type": "markdown",
   "metadata": {},
   "source": [
    "# Numpy VS Python"
   ]
  },
  {
   "cell_type": "markdown",
   "metadata": {},
   "source": [
    "How data is managed through the python API, lets see an example\n"
   ]
  },
  {
   "cell_type": "code",
   "execution_count": 2,
   "metadata": {},
   "outputs": [
    {
     "name": "stdout",
     "output_type": "stream",
     "text": [
      "[2, 3.0, 4, 5.0, 6]\n"
     ]
    }
   ],
   "source": [
    "# Lists can store any type of object\n",
    "a = [1, 2.0, 3, 4.0, 5]\n",
    "\n",
    "for i in range(5):  # check bounds of loop, i < 5, iterate over\n",
    "    \n",
    "    a[i] += 1       # check get a[i]\n",
    "                    # check type of a[i]\n",
    "                    # check if i index is within bounds of list a\n",
    "                    # check if index i is negative (for wrapping purposes)\n",
    "                    # check type of (1)\n",
    "                    # add 1 to a[i]\n",
    "\n",
    "print(a)"
   ]
  },
  {
   "cell_type": "code",
   "execution_count": 4,
   "metadata": {},
   "outputs": [
    {
     "name": "stdout",
     "output_type": "stream",
     "text": [
      "[2. 3. 4. 5. 6.]\n"
     ]
    }
   ],
   "source": [
    "a = np.array([1, 2, 3, 4, 5], dtype = float)\n",
    "\n",
    "a += 1              # check type of array\n",
    "                    # add 1 to each element in C\n",
    "\n",
    "print(a)"
   ]
  },
  {
   "cell_type": "code",
   "execution_count": 5,
   "metadata": {},
   "outputs": [
    {
     "name": "stdout",
     "output_type": "stream",
     "text": [
      "[ 2. 13.  4. 15.  6.]\n"
     ]
    }
   ],
   "source": [
    "# If you wanted to do indexing\n",
    "a[[1,3]] += 10      # check type of array\n",
    "                    # check index is within bounds (done through C)\n",
    "                    # add 10 to element 1 and 3\n",
    "\n",
    "print(a)"
   ]
  },
  {
   "cell_type": "markdown",
   "metadata": {},
   "source": [
    "# The Numpy array\n",
    "* Indexing"
   ]
  },
  {
   "cell_type": "code",
   "execution_count": 9,
   "metadata": {},
   "outputs": [
    {
     "name": "stdout",
     "output_type": "stream",
     "text": [
      "2.0\n",
      "[2. 3. 4.]\n",
      "5.0\n",
      "[1. 2. 4. 5.]\n"
     ]
    },
    {
     "data": {
      "text/plain": [
       "array([1., 2., 3., 4., 5.])"
      ]
     },
     "metadata": {},
     "output_type": "display_data"
    }
   ],
   "source": [
    "# we can make a simple 1D numpy array like so\n",
    "a = np.array([1,2,3,4,5], dtype = float)\n",
    "\n",
    "# just like python lists, numpy arrays can be indexed\n",
    "print(a[1])        # gets the first element\n",
    "\n",
    "# we can retrieve multiple elements in a numpy array similar to lists using slicing\n",
    "print(a[1:4])      # gets all elements between 1 and 4, not including 4\n",
    "\n",
    "# we can use negative indexes\n",
    "print(a[-1])       # gets last element\n",
    "\n",
    "# unlike python lists, we can also retrieve multiple elements using lists\n",
    "print(a[[0,1,3,4]])  # gets first two and last two elements \n"
   ]
  },
  {
   "cell_type": "code",
   "execution_count": 11,
   "metadata": {},
   "outputs": [
    {
     "name": "stdout",
     "output_type": "stream",
     "text": [
      "<class 'numpy.ndarray'>\n"
     ]
    }
   ],
   "source": [
    "# Numpy arrays are ndarray objects, which means N-dimensional arrays, they are really designed to work with multidimensional data\n",
    "print(type(a))"
   ]
  },
  {
   "cell_type": "code",
   "execution_count": 16,
   "metadata": {},
   "outputs": [
    {
     "name": "stdout",
     "output_type": "stream",
     "text": [
      "[[1. 2. 3.]\n",
      " [4. 5. 6.]\n",
      " [7. 8. 9.]]\n"
     ]
    }
   ],
   "source": [
    "# lets create a new numpy array, with 2 dimensions\n",
    "a = np.array([[1,2,3], [4,5,6], [7,8,9]], dtype = float)\n",
    "b = [[1,2,3], [4,5,6], [7,8,9]]\n",
    "print(a)"
   ]
  },
  {
   "cell_type": "code",
   "execution_count": 19,
   "metadata": {},
   "outputs": [
    {
     "name": "stdout",
     "output_type": "stream",
     "text": [
      "2\n",
      "2.0\n"
     ]
    }
   ],
   "source": [
    "# indexing N-D numpy arrays are similar to python nested lists, but with a slight difference\n",
    "\n",
    "# python lists\n",
    "print(b[0][1])\n",
    "\n",
    "# numpy array\n",
    "print(a[0, 1])\n"
   ]
  },
  {
   "cell_type": "code",
   "execution_count": 23,
   "metadata": {},
   "outputs": [
    {
     "name": "stdout",
     "output_type": "stream",
     "text": [
      "[1. 4. 7.]\n",
      "[7. 4. 1.]\n",
      "[3. 2. 1.]\n"
     ]
    }
   ],
   "source": [
    "# otherways of indexing\n",
    "# i could get all the first elements of each row\n",
    "print(a[:,0])\n",
    "\n",
    "# reverse them\n",
    "print(a[::-1,0])\n",
    "\n",
    "# same for colums\n",
    "print(a[0,::-1])"
   ]
  },
  {
   "cell_type": "markdown",
   "metadata": {},
   "source": [
    "* Operators and Assignment"
   ]
  },
  {
   "cell_type": "code",
   "execution_count": 24,
   "metadata": {},
   "outputs": [
    {
     "name": "stdout",
     "output_type": "stream",
     "text": [
      "[[ 2.  3.  4.]\n",
      " [ 5.  6.  7.]\n",
      " [ 8.  9. 10.]]\n"
     ]
    }
   ],
   "source": [
    "# basic python operators in Numpy are applied to all elements\n",
    "a += 1      # same for -=, /=, *= and %=\n",
    "print(a)"
   ]
  },
  {
   "cell_type": "code",
   "execution_count": 25,
   "metadata": {},
   "outputs": [
    {
     "name": "stdout",
     "output_type": "stream",
     "text": [
      "[[12.  3.  4.]\n",
      " [15.  6.  7.]\n",
      " [18.  9. 10.]]\n"
     ]
    }
   ],
   "source": [
    "# I can specify what elements I want to operate on\n",
    "a[:,0] += 10.0\n",
    "\n",
    "print(a)"
   ]
  },
  {
   "cell_type": "code",
   "execution_count": 26,
   "metadata": {},
   "outputs": [
    {
     "name": "stdout",
     "output_type": "stream",
     "text": [
      "[[12.  3.  4.]\n",
      " [ 7.  6. 15.]\n",
      " [18.  9. 10.]]\n"
     ]
    }
   ],
   "source": [
    "# I can do alot of things\n",
    "\n",
    "# reverse 2nd row of elements\n",
    "a[1, :] = a[1, ::-1]        # another way to say this is a[1] = a[1, ::-1], unspecified dims are defaulted to : (all)\n",
    "print(a)"
   ]
  },
  {
   "cell_type": "code",
   "execution_count": 27,
   "metadata": {},
   "outputs": [
    {
     "name": "stdout",
     "output_type": "stream",
     "text": [
      "[[12.  7.  4.]\n",
      " [ 3.  6. 15.]\n",
      " [18.  9. 10.]]\n"
     ]
    }
   ],
   "source": [
    "# transpose a set of 4 elements \n",
    "a[0:2, 0:2] = a[0:2, 0:2].T \n",
    "\n",
    "print(a)"
   ]
  },
  {
   "cell_type": "markdown",
   "metadata": {},
   "source": [
    "* Views \n",
    "\n",
    "Something interesting has happened. The changes to array [b] have affected the data in array [a]. Why is this?"
   ]
  },
  {
   "cell_type": "code",
   "execution_count": 30,
   "metadata": {},
   "outputs": [
    {
     "name": "stdout",
     "output_type": "stream",
     "text": [
      "[[ 1.  2.  3.]\n",
      " [ 8. 10. 12.]\n",
      " [ 7.  8.  9.]]\n",
      "[ 8. 10. 12.]\n"
     ]
    }
   ],
   "source": [
    "# lests reset our array\n",
    "a = np.array([[1,2,3], [4,5,6], [7,8,9]], dtype = float)\n",
    "\n",
    "# set a new array b to the 2nd row\n",
    "b = a[1]\n",
    "\n",
    "# multiply each element in b by 2\n",
    "b *= 2\n",
    "\n",
    "# print out both a and b\n",
    "print(a)\n",
    "print(b)"
   ]
  },
  {
   "cell_type": "markdown",
   "metadata": {},
   "source": [
    "We can by pass this using the .copy() method"
   ]
  },
  {
   "cell_type": "code",
   "execution_count": 31,
   "metadata": {},
   "outputs": [
    {
     "name": "stdout",
     "output_type": "stream",
     "text": [
      "[[ 1.  2.  3.]\n",
      " [ 8. 10. 12.]\n",
      " [ 7.  8.  9.]]\n",
      "[16. 20. 24.]\n"
     ]
    }
   ],
   "source": [
    "# make a copy of a\n",
    "b = a[1].copy()\n",
    "\n",
    "# multiply by 2\n",
    "b *= 2\n",
    "\n",
    "print(a)\n",
    "print(b)\n",
    "\n"
   ]
  },
  {
   "cell_type": "markdown",
   "metadata": {},
   "source": [
    "* Typecasting"
   ]
  },
  {
   "cell_type": "code",
   "execution_count": 32,
   "metadata": {},
   "outputs": [
    {
     "name": "stdout",
     "output_type": "stream",
     "text": [
      "64.5\n"
     ]
    }
   ],
   "source": [
    "# another useful feature in Numpy is typecasting, in python we can change the type of a varaible, within reason\n",
    "\n",
    "# say i have a string of a number\n",
    "c = \"64.5\"\n",
    "\n",
    "# I can cast it as a float\n",
    "print(float(c))"
   ]
  },
  {
   "cell_type": "code",
   "execution_count": 36,
   "metadata": {},
   "outputs": [
    {
     "name": "stdout",
     "output_type": "stream",
     "text": [
      "[[ 1  2  3]\n",
      " [ 8 10 12]\n",
      " [ 7  8  9]]\n"
     ]
    }
   ],
   "source": [
    "# same with numpy arrays, but slightly different as it changes the type of the array.\n",
    "c = a.astype(int)\n",
    "\n",
    "print(c)"
   ]
  },
  {
   "cell_type": "code",
   "execution_count": 37,
   "metadata": {},
   "outputs": [
    {
     "name": "stdout",
     "output_type": "stream",
     "text": [
      "[[1. 2. 3.]\n",
      " [4. 5. 6.]\n",
      " [7. 8. 9.]]\n"
     ]
    }
   ],
   "source": [
    "# alot of numpy functions also allow for you to specify the type of the array\n",
    "a = np.array([[1,2,3], [4,5,6], [7,8,9]], dtype = float)\n",
    "\n",
    "print(a)"
   ]
  },
  {
   "cell_type": "markdown",
   "metadata": {},
   "source": [
    "# Useful Numpy methods, functions and attributes"
   ]
  },
  {
   "cell_type": "markdown",
   "metadata": {},
   "source": [
    "* size and shape"
   ]
  },
  {
   "cell_type": "code",
   "execution_count": 38,
   "metadata": {},
   "outputs": [
    {
     "name": "stdout",
     "output_type": "stream",
     "text": [
      "9\n",
      "(3, 3)\n",
      "2\n"
     ]
    }
   ],
   "source": [
    "# You can get the number of elements in an array using .size\n",
    "print(a.size)\n",
    "\n",
    "# you can get the shape of an array using .shape\n",
    "print(a.shape)\n",
    "\n",
    "# you can get the number of dimensions of an array using .ndim\n",
    "print(a.ndim)"
   ]
  },
  {
   "cell_type": "markdown",
   "metadata": {},
   "source": [
    "* Flatten\n"
   ]
  },
  {
   "cell_type": "code",
   "execution_count": 39,
   "metadata": {},
   "outputs": [
    {
     "name": "stdout",
     "output_type": "stream",
     "text": [
      "[1. 2. 3. 4. 5. 6. 7. 8. 9.]\n"
     ]
    }
   ],
   "source": [
    "# you can flatten out an array (1-D)\n",
    "print(a.flatten())"
   ]
  },
  {
   "cell_type": "markdown",
   "metadata": {},
   "source": [
    "* min, max, mean, sum"
   ]
  },
  {
   "cell_type": "code",
   "execution_count": 49,
   "metadata": {},
   "outputs": [
    {
     "name": "stdout",
     "output_type": "stream",
     "text": [
      "1.0\n",
      "9.0\n",
      "[2. 5. 8.]\n",
      "5.0\n",
      "[12. 15. 18.]\n",
      "45.0\n"
     ]
    }
   ],
   "source": [
    "# find min\n",
    "print(a.min())      # can also use np.min(a)\n",
    "\n",
    "# find max\n",
    "print(a.max())      # can also use np.max(a)\n",
    "\n",
    "# Many numpy functions/methods have an argument called [axis], this is sed to specify which dimension to apply an operation to\n",
    "# for example\n",
    "\n",
    "# find mean of elements in rows\n",
    "print(a.mean(axis = 1))         # can also use np.mean(a, axis = 1)\n",
    "\n",
    "# not specifying an axis will treat the array as a 1-D flattened array, so the operation is applied to all elements in array\n",
    "print(a.mean())\n",
    "\n",
    "# find sum across elements in columns\n",
    "print(a.sum(axis = 0))          # can also use np.sum(a, axis = 0)\n",
    "\n",
    "# not specifying axis\n",
    "print(a.sum())\n"
   ]
  },
  {
   "cell_type": "code",
   "execution_count": 51,
   "metadata": {},
   "outputs": [
    {
     "name": "stdout",
     "output_type": "stream",
     "text": [
      "8\n",
      "0\n"
     ]
    }
   ],
   "source": [
    "# we can also find where the maximum/minimum is\n",
    "print(a.argmax())           # can also use np.argmax(a)\n",
    "print(a.argmin())           # can also use np.argmin(a)\n",
    "\n",
    "# we will see MUCH MORE of this later in this session"
   ]
  },
  {
   "cell_type": "markdown",
   "metadata": {},
   "source": [
    "* Transpose"
   ]
  },
  {
   "cell_type": "code",
   "execution_count": 52,
   "metadata": {},
   "outputs": [
    {
     "name": "stdout",
     "output_type": "stream",
     "text": [
      "[[1. 4. 7.]\n",
      " [2. 5. 8.]\n",
      " [3. 6. 9.]]\n"
     ]
    }
   ],
   "source": [
    "# we can also get the transpose of an array using .T\n",
    "print(a.T)"
   ]
  },
  {
   "cell_type": "markdown",
   "metadata": {},
   "source": [
    "* Strides\n",
    "\n",
    "To understand reshaping, we must understanding array strides."
   ]
  },
  {
   "cell_type": "code",
   "execution_count": 53,
   "metadata": {},
   "outputs": [
    {
     "name": "stdout",
     "output_type": "stream",
     "text": [
      "(3, 3)\n",
      "5.0\n"
     ]
    }
   ],
   "source": [
    "print(a.shape)\n",
    "\n",
    "print(a[1,1])\n",
    "\n",
    "# see workshop slides ...\n"
   ]
  },
  {
   "cell_type": "code",
   "execution_count": 55,
   "metadata": {},
   "outputs": [
    {
     "name": "stdout",
     "output_type": "stream",
     "text": [
      "[[[ 1  2  3]\n",
      "  [ 4  5  6]\n",
      "  [ 7  8  9]]\n",
      "\n",
      " [[10 11 12]\n",
      "  [13 14 15]\n",
      "  [16 17 18]]\n",
      "\n",
      " [[19 20 21]\n",
      "  [22 23 24]\n",
      "  [25 26 27]]]\n",
      "23\n"
     ]
    }
   ],
   "source": [
    "# for a 3-D array\n",
    "d = np.arange(1, 28).reshape(3,3,3)\n",
    "print(d)\n",
    "\n",
    "print(d[2,1,1])"
   ]
  },
  {
   "cell_type": "markdown",
   "metadata": {},
   "source": [
    "Using strides, our new array shape is (3,3,3). To get 23 which is at index (2,1,1), we...\n",
    "\n",
    "2 * 3 * 3 + 1*3 + 1\n",
    "\n",
    "or \n",
    "\n",
    "x*N2*(N1) + y*N1 + z\n",
    "\n",
    "where \n",
    "\n",
    "(N2, N1, N0) -> (3,3,3) and (x,y,z) -> (2,1,1)"
   ]
  },
  {
   "cell_type": "code",
   "execution_count": 56,
   "metadata": {},
   "outputs": [
    {
     "name": "stdout",
     "output_type": "stream",
     "text": [
      "23\n"
     ]
    }
   ],
   "source": [
    "# using strides, flatten the array so we have a 1-D array in view\n",
    "d = d.flatten()\n",
    "\n",
    "print(d[2*3*3 + 1*3 + 1])\n",
    "\n",
    "\n"
   ]
  },
  {
   "cell_type": "markdown",
   "metadata": {},
   "source": [
    "* reshaping"
   ]
  },
  {
   "cell_type": "code",
   "execution_count": 58,
   "metadata": {},
   "outputs": [
    {
     "name": "stdout",
     "output_type": "stream",
     "text": [
      "[[[ 1  2  3]\n",
      "  [ 4  5  6]\n",
      "  [ 7  8  9]]\n",
      "\n",
      " [[10 11 12]\n",
      "  [13 14 15]\n",
      "  [16 17 18]]\n",
      "\n",
      " [[19 20 21]\n",
      "  [22 23 24]\n",
      "  [25 26 27]]]\n",
      "[[ 1  2  3]\n",
      " [ 4  5  6]\n",
      " [ 7  8  9]\n",
      " [10 11 12]\n",
      " [13 14 15]\n",
      " [16 17 18]\n",
      " [19 20 21]\n",
      " [22 23 24]\n",
      " [25 26 27]]\n"
     ]
    }
   ],
   "source": [
    "# reshaping is powerful since we can change the strides\n",
    "\n",
    "# make our 3x3x3 array\n",
    "d = np.arange(1, 28).reshape(3,3,3)\n",
    "print(d)\n",
    "\n",
    "# reshape it to a 9x3 array\n",
    "print(d.reshape(9,3))"
   ]
  },
  {
   "cell_type": "markdown",
   "metadata": {},
   "source": [
    "# Lets combine all of this and do an example - Average x number of samples together \n",
    "\n",
    "# Example #1\n",
    "I want to take an array and downsample it by some factor. For example I have an array of 10 elements and I want to downsample by two and return an array with 5 elements.\n"
   ]
  },
  {
   "cell_type": "code",
   "execution_count": 59,
   "metadata": {},
   "outputs": [],
   "source": [
    "# The code!\n",
    "def average(x, N):\n",
    "    \"\"\"\n",
    "    x:      The array of data to average\n",
    "    N:      Averaging/Downsampling factor\n",
    "    \n",
    "    \"\"\"\n",
    "\n",
    "    # get shape of array\n",
    "    shape = x.shape\n",
    "\n",
    "    # we will reshape our array so that the last dimension is of length N\n",
    "    new_shape = (shape[0]//N, N)\n",
    "\n",
    "    # reshape x array\n",
    "    y = x.reshape(new_shape)\n",
    "\n",
    "    # take mean along axis 1\n",
    "    y = np.mean(y, axis = 1)\n",
    "\n",
    "    # return new array\n",
    "    return y\n",
    "\n",
    "\n"
   ]
  },
  {
   "cell_type": "code",
   "execution_count": 61,
   "metadata": {},
   "outputs": [
    {
     "name": "stdout",
     "output_type": "stream",
     "text": [
      "[ 1.  2.  3.  4.  5.  6.  7.  8.  9. 10.]\n",
      "[1.5 3.5 5.5 7.5 9.5]\n"
     ]
    }
   ],
   "source": [
    "a = np.array([1,2,3,4,5,6,7,8,9,10], dtype = float)\n",
    "print(a)\n",
    "\n",
    "print(average(a,2))"
   ]
  },
  {
   "cell_type": "code",
   "execution_count": 62,
   "metadata": {},
   "outputs": [
    {
     "name": "stdout",
     "output_type": "stream",
     "text": [
      "[ 0.  1.  2.  3.  4.  5.  6.  7.  8.  9. 10. 11. 12. 13. 14. 15. 16. 17.\n",
      " 18. 19.]\n",
      "Averaging 2 elements together\n",
      "[ 0.5  2.5  4.5  6.5  8.5 10.5 12.5 14.5 16.5 18.5]\n",
      "Averaging 4 elements together\n",
      "[ 1.5  5.5  9.5 13.5 17.5]\n",
      "Averaging 5 elements together\n",
      "[ 2.  7. 12. 17.]\n",
      "Averaging 10 elements together\n",
      "[ 4.5 14.5]\n"
     ]
    }
   ],
   "source": [
    "a = np.arange(20, dtype = float)\n",
    "\n",
    "print(a)\n",
    "\n",
    "print(\"Averaging 2 elements together\")\n",
    "print(average(a, 2))\n",
    "\n",
    "print(\"Averaging 4 elements together\")\n",
    "print(average(a, 4))\n",
    "\n",
    "print(\"Averaging 5 elements together\")\n",
    "print(average(a, 5))\n",
    "\n",
    "print(\"Averaging 10 elements together\")\n",
    "print(average(a, 10))"
   ]
  },
  {
   "cell_type": "markdown",
   "metadata": {},
   "source": [
    "# Problem #1\n",
    "You have an array, for every 3 elements I want the largest values. I then want you to take the average of those values.\n",
    "\n",
    "ANSWER: 22470.6036"
   ]
  },
  {
   "cell_type": "code",
   "execution_count": 71,
   "metadata": {},
   "outputs": [
    {
     "name": "stdout",
     "output_type": "stream",
     "text": [
      "[11493 29617 29552 ... 16484 22613 12072]\n"
     ]
    }
   ],
   "source": [
    "a = np.load(\"Shuffled_array.npy\")\n",
    "\n",
    "print(a)"
   ]
  },
  {
   "cell_type": "code",
   "execution_count": 72,
   "metadata": {},
   "outputs": [
    {
     "name": "stdout",
     "output_type": "stream",
     "text": [
      "22470.6036\n"
     ]
    }
   ],
   "source": [
    "# Put code here\n",
    "\n",
    "# a = a.reshape(a.size//3, 3)\n",
    "\n",
    "# a_max = np.max(a, axis = 1)\n",
    "\n",
    "# a_max_mean = np.mean(a_max)\n",
    "\n",
    "# print(a_max_mean)"
   ]
  },
  {
   "cell_type": "markdown",
   "metadata": {},
   "source": [
    "# Broadcasting"
   ]
  },
  {
   "cell_type": "code",
   "execution_count": 76,
   "metadata": {},
   "outputs": [
    {
     "name": "stdout",
     "output_type": "stream",
     "text": [
      "[[1. 2. 3.]\n",
      " [4. 5. 6.]\n",
      " [7. 8. 9.]]\n",
      "[[ 2.  4.  6.]\n",
      " [ 8. 10. 12.]\n",
      " [14. 16. 18.]]\n"
     ]
    }
   ],
   "source": [
    "# we know we can multiply, add, divide etc. numpy arrays\n",
    "a = np.array([[1,2,3], [4,5,6], [7,8,9]], dtype = float)\n",
    "print(a)\n",
    "\n",
    "print(a*2)"
   ]
  },
  {
   "cell_type": "code",
   "execution_count": 77,
   "metadata": {},
   "outputs": [
    {
     "name": "stdout",
     "output_type": "stream",
     "text": [
      "[[ 1.  4.  9.]\n",
      " [ 4. 10. 18.]\n",
      " [ 7. 16. 27.]]\n"
     ]
    }
   ],
   "source": [
    "# but, we can also operate on a numpy array, with another numpy array\n",
    "b = np.array([1,2,3])\n",
    "\n",
    "print(a * b)        # How does this work? What are the limitations?"
   ]
  },
  {
   "cell_type": "code",
   "execution_count": 80,
   "metadata": {},
   "outputs": [
    {
     "name": "stdout",
     "output_type": "stream",
     "text": [
      "[[ 1  4  9]\n",
      " [ 4 10 18]]\n"
     ]
    }
   ],
   "source": [
    "c = np.array([[1,2,3],[4,5,6]])\n",
    "\n",
    "print(c*b)"
   ]
  },
  {
   "cell_type": "code",
   "execution_count": 82,
   "metadata": {},
   "outputs": [
    {
     "name": "stdout",
     "output_type": "stream",
     "text": [
      "[[[ 1  4  9]\n",
      "  [ 4 10 18]\n",
      "  [ 7 16 27]]\n",
      "\n",
      " [[10 22 36]\n",
      "  [13 28 45]\n",
      "  [16 34 54]]\n",
      "\n",
      " [[19 40 63]\n",
      "  [22 46 72]\n",
      "  [25 52 81]]]\n"
     ]
    }
   ],
   "source": [
    "d = np.arange(1, 28).reshape(3,3,3)\n",
    "\n",
    "print(d * b)"
   ]
  },
  {
   "cell_type": "markdown",
   "metadata": {},
   "source": [
    "Final Note on Broadcasting: You can combine this with reshaping, transposing etc. to manipulate matrices in any way you like. When you get good\n",
    "enough at it, it becomes nothing more then block puzzle game!"
   ]
  },
  {
   "cell_type": "markdown",
   "metadata": {},
   "source": [
    "# Boolean Indexing\n",
    "Indexing with conditions"
   ]
  },
  {
   "cell_type": "code",
   "execution_count": 93,
   "metadata": {},
   "outputs": [
    {
     "name": "stdout",
     "output_type": "stream",
     "text": [
      "[1 2]\n"
     ]
    }
   ],
   "source": [
    "# if I make an new array with two elements\n",
    "a = np.array([1,2])\n",
    "\n",
    "# i can index with true or false statements, lets make a list of True and False statements\n",
    "bool_list = [True, True]\n",
    "\n",
    "print(a[bool_list])"
   ]
  },
  {
   "cell_type": "code",
   "execution_count": 94,
   "metadata": {},
   "outputs": [
    {
     "name": "stdout",
     "output_type": "stream",
     "text": [
      "[ True  True]\n"
     ]
    }
   ],
   "source": [
    "# numpy also vectorizes condition statements\n",
    "print(a > 0)"
   ]
  },
  {
   "cell_type": "code",
   "execution_count": 98,
   "metadata": {},
   "outputs": [
    {
     "name": "stdout",
     "output_type": "stream",
     "text": [
      "[[[ 0  1  2]\n",
      "  [ 3  4  5]\n",
      "  [ 6  7  8]]\n",
      "\n",
      " [[ 9 10 11]\n",
      "  [12 13 14]\n",
      "  [15 16 17]]\n",
      "\n",
      " [[18 19 20]\n",
      "  [21 22 23]\n",
      "  [24 25 26]]]\n",
      "[[[False False False]\n",
      "  [False False False]\n",
      "  [False False False]]\n",
      "\n",
      " [[False False  True]\n",
      "  [ True  True  True]\n",
      "  [ True  True  True]]\n",
      "\n",
      " [[ True  True  True]\n",
      "  [ True  True  True]\n",
      "  [ True  True  True]]]\n",
      "------------------------------------\n",
      "[11 12 13 14 15 16 17 18 19 20 21 22 23 24 25 26]\n"
     ]
    }
   ],
   "source": [
    "# we can then combine these\n",
    "a = np.arange(27).reshape(3,3,3)\n",
    "\n",
    "b = a > 10\n",
    "\n",
    "print(a)\n",
    "print(b)\n",
    "\n",
    "print(\"------------------------------------\")\n",
    "print(a[b])"
   ]
  },
  {
   "cell_type": "code",
   "execution_count": 117,
   "metadata": {},
   "outputs": [
    {
     "name": "stdout",
     "output_type": "stream",
     "text": [
      "[11 12 13 14 15 16 17 18 19 20 21 22 23 24 25 26]\n",
      "[ 0  1  2  3  4  5  6  7  8  9 10]\n"
     ]
    }
   ],
   "source": [
    "# or, even simpler, \n",
    "print(a[a>10])\n",
    "\n",
    "# trick '~'\n",
    "print(a[~(a>10)])\n",
    "\n",
    "\n",
    "# Important, bool array must match the array you are indexing"
   ]
  },
  {
   "cell_type": "code",
   "execution_count": 126,
   "metadata": {},
   "outputs": [
    {
     "name": "stdout",
     "output_type": "stream",
     "text": [
      "[11 12 13 14 15 16 17 18 19 20 21 22 23 24]\n",
      "[ 0  2  3  4  6  8  9 10 12 14 15 16 18 20 21 22 24 26]\n"
     ]
    }
   ],
   "source": [
    "# you can apply multiple conditions whist indexing, using seperate numpy functions\n",
    "\n",
    "# for 'and' operator\n",
    "bool_arr = np.logical_and(a > 10, a < 25)\n",
    "\n",
    "print(a[bool_arr])\n",
    "\n",
    "# for 'or' operator\n",
    "bool_arr = np.logical_or(a % 2 == 0,a % 3 == 0)       # this will give you all elements that return a remainder\n",
    "\n",
    "print(a[bool_arr])"
   ]
  },
  {
   "cell_type": "markdown",
   "metadata": {},
   "source": [
    "* Bitwise operators\n",
    "\n",
    "https://numpy.org/doc/stable/reference/routines.logic.html"
   ]
  },
  {
   "cell_type": "code",
   "execution_count": 136,
   "metadata": {},
   "outputs": [
    {
     "name": "stdout",
     "output_type": "stream",
     "text": [
      "[11 12 13 14 15 16 17 18 19 20 21 22 23 24]\n",
      "[ 0  1  2  3  4  5  6  7  8  9 10 11 12 13 14 15 16 17 18 19 20 21 22 23\n",
      " 24 25 26]\n",
      "[ 0  1  2  3  4  5  6  7  8  9 10 25 26]\n",
      "[ 0  1  2  3  4  5  6  7  8  9 10]\n"
     ]
    }
   ],
   "source": [
    "# logical and can be replaced by \"&\"\n",
    "\n",
    "print(a[(a > 10) & (a < 25)])\n",
    "\n",
    "# logical or can be replaced by \"|\"\n",
    "\n",
    "print(a[(a > 10) | (a < 25)])\n",
    "\n",
    "# logical xor (only OR, not AND) can be replaced by \"^\"\n",
    "\n",
    "print(a[(a > 10) ^ (a < 25)])\n",
    "\n",
    "# logical not can be replaced by \"~\"\n",
    "\n",
    "print(a[~(a > 10)])\n",
    "\n",
    "# You probably wont need \"<<\" or \">>\"\n"
   ]
  },
  {
   "cell_type": "markdown",
   "metadata": {},
   "source": [
    "# Extra numpy functions, .nan"
   ]
  },
  {
   "cell_type": "code",
   "execution_count": 139,
   "metadata": {},
   "outputs": [
    {
     "name": "stdout",
     "output_type": "stream",
     "text": [
      "[[ 1.  2.  3.]\n",
      " [ 4. nan  6.]]\n"
     ]
    }
   ],
   "source": [
    "# Sometimes, you might have a numpy array with undefined data that might look something like this\n",
    "a = np.array([[1,2,3], [4, np.nan, 6]], dtype = float)\n",
    "\n",
    "print(a)"
   ]
  },
  {
   "cell_type": "code",
   "execution_count": 141,
   "metadata": {},
   "outputs": [
    {
     "name": "stdout",
     "output_type": "stream",
     "text": [
      "[ 2. nan]\n"
     ]
    }
   ],
   "source": [
    "# applying the methods we have learnt in this case will result in unwanted behaivor\n",
    "\n",
    "# take the mean of each row\n",
    "print(np.mean(a, axis = 1))"
   ]
  },
  {
   "cell_type": "code",
   "execution_count": 142,
   "metadata": {},
   "outputs": [
    {
     "name": "stdout",
     "output_type": "stream",
     "text": [
      "[2. 5.]\n"
     ]
    }
   ],
   "source": [
    "# instead, there are built in numpy functions for this purpose\n",
    "print(np.nanmean(a, axis = 1))      # in this case, all nans are simply ignored."
   ]
  },
  {
   "cell_type": "markdown",
   "metadata": {},
   "source": [
    "Note: This will be slower in general since numpy has to check each element to make sure it's a nan or not. This can be accelerated somewhat\n",
    "if it knows ahead of time where the nans are"
   ]
  },
  {
   "cell_type": "code",
   "execution_count": 146,
   "metadata": {},
   "outputs": [
    {
     "name": "stdout",
     "output_type": "stream",
     "text": [
      "[[ True  True  True]\n",
      " [ True False  True]]\n",
      "[[0.1 0.2 0.3]\n",
      " [0.4 nan 0.6]]\n"
     ]
    }
   ],
   "source": [
    "# lets look for nans\n",
    "print(~np.isnan(a))\n",
    "\n",
    "# then we can operate on just those values\n",
    "\n",
    "mask = ~np.isnan(a)\n",
    "\n",
    "a[mask] *= 1.0\n",
    "a[mask] /= 10\n",
    "\n",
    "print(a)\n",
    "\n"
   ]
  },
  {
   "cell_type": "markdown",
   "metadata": {},
   "source": [
    "Definitely explore the different nan methods if you come across this issue, no doubt most functions you need will have a nan variant."
   ]
  },
  {
   "cell_type": "markdown",
   "metadata": {},
   "source": [
    "# Saving and Loading numpy arrays\n",
    "Numpy offers a useful method for loading and saving data"
   ]
  },
  {
   "cell_type": "code",
   "execution_count": 147,
   "metadata": {},
   "outputs": [
    {
     "name": "stdout",
     "output_type": "stream",
     "text": [
      "[[[ 0  1  2]\n",
      "  [ 3  4  5]\n",
      "  [ 6  7  8]]\n",
      "\n",
      " [[ 9 10 11]\n",
      "  [12 13 14]\n",
      "  [15 16 17]]\n",
      "\n",
      " [[18 19 20]\n",
      "  [21 22 23]\n",
      "  [24 25 26]]]\n"
     ]
    }
   ],
   "source": [
    "# lets make an array\n",
    "a = np.arange(27).reshape(3,3,3)\n",
    "\n",
    "print(a)"
   ]
  },
  {
   "cell_type": "code",
   "execution_count": 148,
   "metadata": {},
   "outputs": [],
   "source": [
    "# lets save it using the np.save method\n",
    "\n",
    "np.save(\"test.npy\", a)"
   ]
  },
  {
   "cell_type": "code",
   "execution_count": 149,
   "metadata": {},
   "outputs": [
    {
     "name": "stdout",
     "output_type": "stream",
     "text": [
      "[[[ 0  1  2]\n",
      "  [ 3  4  5]\n",
      "  [ 6  7  8]]\n",
      "\n",
      " [[ 9 10 11]\n",
      "  [12 13 14]\n",
      "  [15 16 17]]\n",
      "\n",
      " [[18 19 20]\n",
      "  [21 22 23]\n",
      "  [24 25 26]]]\n"
     ]
    }
   ],
   "source": [
    "# now lets load the data back in\n",
    "b = np.load(\"test.npy\")\n",
    "\n",
    "print(b)"
   ]
  },
  {
   "cell_type": "code",
   "execution_count": 152,
   "metadata": {},
   "outputs": [
    {
     "name": "stdout",
     "output_type": "stream",
     "text": [
      "[[[ 0  1  2]\n",
      "  [ 3  4  5]\n",
      "  [ 6  7  8]]\n",
      "\n",
      " [[ 9 10 11]\n",
      "  [12 13 14]\n",
      "  [15 16 17]]\n",
      "\n",
      " [[18 19 20]\n",
      "  [21 22 23]\n",
      "  [24 25 26]]]\n",
      "[363 172 813 249 700 541 815 218 248 653 257 546 217  27 451 846  29 828\n",
      " 944 322 472 731 829 586 723 386 910 135 761 888 881 584 577  98 594 465\n",
      " 169 866 599 222 714 137 678 184  90 519 993 402 425 110 582 892 543 632\n",
      " 156  81 597 855 175 327 788  40 475 966 801 809 560 370 769 614 162 513\n",
      " 540 240 553 250 270 352 201 221  52  43 756 790 463 738  17 143 514 437\n",
      " 951 958 442 351 367  11 615 785 378 239 736 565 912 224  26 920 947 179\n",
      " 656 237 841 627 262 195 754 848 493 633 891 832 890 506  31 119 702 494\n",
      " 820 533 937 167 310 121 652 375 729 446 100 309 787 994 255 680 647  94\n",
      " 807 768  14 118 328 234  85 466 432 187 574 269 849 882 856 245 583 444\n",
      " 365 933 247 388 203 867  86 824 960 905 283 163  38 588 579  73 354 681\n",
      " 669 682 645 357 171 806 811 961 691 424 391 517 779 977 739 350 625  55\n",
      " 142 404 659 380 854 450 189 504 190  20 277 778 823 293 333 985 986 667\n",
      " 166 980 204  96 452 988 619 271 200 649 685 601 312 975 871 719 158 120\n",
      " 364 759  57 968 147 521 524 426 726 394 180 300 489 527 233 263 148 674\n",
      " 628 837 732 399 877 342 315 264 371 679 230 922 916 660 800 713   1 108\n",
      " 490 481 178  74 102 412 266 992 400 456 500 794  41 748 288 225 596 825\n",
      " 105 617 581 931 709 643 694 339   3 564 764 784 123 219 880 502 662 278\n",
      " 212 379 413 207  61 919 384 693  80 934 741 918 111 235 684 407  53 762\n",
      " 397 821 598 796 670 457 997 482 580  63 839 780 775 735 737 360  24 575\n",
      "  58 965 287 208 698 116 658  91 797  82 501 666 571 872 858 376  84 470\n",
      " 712 555 542 833 689 229 607  93 851 267 857 281 757 272 136 181 622 347\n",
      " 655 259 140 318  39 430 299 215 876 275 865 497 434 334 629 503   7 887\n",
      " 101  13 496 967  59 686  16 873 692 955 776 663  62 295 853 590 372 979\n",
      " 939 711 836  25 989  32 942 814 238 285 220 127 592 346 789 486 528 928\n",
      " 173 164 324 389  54 717 440 153 479 307 132 226 422 476  19  34 331   5\n",
      " 303 843 896  89 210 128 323 471 509 458 708 573 297 409 260 751 317 428\n",
      " 954 782 130 924 816 976 630 861 802 763  66 369 188 724 572 927 638 563\n",
      " 114 467 558 174 122 498 344 946 852 298 998 480 125 286  33 170 392 767\n",
      " 383 697 774 600 314 701  47 644 585 529 909 291 901 231 703 886  92 589\n",
      " 289 199 321 254 393 261 932 725 191 895 971  50 401  56 772 419  28  67\n",
      " 256 675 329 433 355 336 448 593 995  21  15 804 373 964 532 499  88 348\n",
      " 730 411 793   2 356 641 545 325  77 416 791 469 661 177 461 345 777 311\n",
      " 160 683 305 838 870 991 567 165 799 835 562  79  30 566 898 949 747 129\n",
      " 405 243 706 746 306 903 798 282 878 900 786 168 385 734 104 672 639 616\n",
      " 704 770 429 657 613 603 844 650 124 803 491 812 520 485 253 193 161  48\n",
      " 227 139 443 487 474 781 374 511 512 983 676 671 959 999 258 624 194 618\n",
      " 710 930  65 834 313 301 251  95 576 636 721  99 522 418 106 326 987  70\n",
      " 783 453 818 495 242 696 530 406 945 879 473 547 539 827 902 578 544 914\n",
      " 185 718 859 131 484 150 941 621 274 366 925 138 358 654 268 642 842 862\n",
      " 206 488 605 510 773 526 144 893 940  10 202 134 760 516 950 198 982 884\n",
      " 612 421 845 556 561 609 349 699 151 113 943  51   6 899   4 753 740 956\n",
      " 236 341 223 733 459 141 246 665 155 957 439 608  36   8 455 477 707 883\n",
      " 923 316  68 587 926 550 720 126 403 640 343 953 182 620 766 468 387 338\n",
      " 869  76 695 677  83 894 395 410 840 635  44 362 631 390 483 302 417 460\n",
      " 436  64 523 176 492 353 149  22 441 154 602 337 420 228  60 963 408 551\n",
      "  12 146 745 864 981 196  78 559 908 273 860 192 252 810 972 415 668 447\n",
      " 280 868  46   9 435 604 610 335 454 445 205 381 817 750 716 889 216 973\n",
      " 752 742 534 103 152 382 112 935 646  71 990 651 611 508 634 808 690 984\n",
      "  18 427 109 743 552 538 320 913 359 213  23 936 244 938 525 715 368 744\n",
      " 705 214 875 606  69 727   0 535 377 292 396 505 755 664 830 115 464 623\n",
      " 648 536 133  87 850 568 398 885  72 183 340 819 361 970 847 294 921 962\n",
      " 107 904 423  49 518 462 974 569 570 906 952 831 211 673 332  45 557 595\n",
      " 549 186 308 874 907 438 929 795 241 863  75  42 765  35 591 915 771 209\n",
      " 296 265 284 688 758 948 197 826 687 822 117 917 319 157 749 304 728  97\n",
      " 996  37 478 978 626 276 637 507 548 792 449 722 145 279 531 330 897 515\n",
      " 431 554 969 290 159 414 537 232 805 911]\n"
     ]
    }
   ],
   "source": [
    "# you can save multiple arrays to a single file\n",
    "a = np.arange(27).reshape(3,3,3)\n",
    "b = np.arange(1000)\n",
    "np.random.shuffle(b)\n",
    "with open(\"test.npy\", \"wb\") as file:        # make sure to include the 'b' specifier, since this is a binary file!!!\n",
    "    np.save(file, a)\n",
    "    np.save(file, b)\n",
    "\n",
    "print(a)\n",
    "print(b)"
   ]
  },
  {
   "cell_type": "code",
   "execution_count": 153,
   "metadata": {},
   "outputs": [
    {
     "name": "stdout",
     "output_type": "stream",
     "text": [
      "[[[ 0  1  2]\n",
      "  [ 3  4  5]\n",
      "  [ 6  7  8]]\n",
      "\n",
      " [[ 9 10 11]\n",
      "  [12 13 14]\n",
      "  [15 16 17]]\n",
      "\n",
      " [[18 19 20]\n",
      "  [21 22 23]\n",
      "  [24 25 26]]]\n",
      "[363 172 813 249 700 541 815 218 248 653 257 546 217  27 451 846  29 828\n",
      " 944 322 472 731 829 586 723 386 910 135 761 888 881 584 577  98 594 465\n",
      " 169 866 599 222 714 137 678 184  90 519 993 402 425 110 582 892 543 632\n",
      " 156  81 597 855 175 327 788  40 475 966 801 809 560 370 769 614 162 513\n",
      " 540 240 553 250 270 352 201 221  52  43 756 790 463 738  17 143 514 437\n",
      " 951 958 442 351 367  11 615 785 378 239 736 565 912 224  26 920 947 179\n",
      " 656 237 841 627 262 195 754 848 493 633 891 832 890 506  31 119 702 494\n",
      " 820 533 937 167 310 121 652 375 729 446 100 309 787 994 255 680 647  94\n",
      " 807 768  14 118 328 234  85 466 432 187 574 269 849 882 856 245 583 444\n",
      " 365 933 247 388 203 867  86 824 960 905 283 163  38 588 579  73 354 681\n",
      " 669 682 645 357 171 806 811 961 691 424 391 517 779 977 739 350 625  55\n",
      " 142 404 659 380 854 450 189 504 190  20 277 778 823 293 333 985 986 667\n",
      " 166 980 204  96 452 988 619 271 200 649 685 601 312 975 871 719 158 120\n",
      " 364 759  57 968 147 521 524 426 726 394 180 300 489 527 233 263 148 674\n",
      " 628 837 732 399 877 342 315 264 371 679 230 922 916 660 800 713   1 108\n",
      " 490 481 178  74 102 412 266 992 400 456 500 794  41 748 288 225 596 825\n",
      " 105 617 581 931 709 643 694 339   3 564 764 784 123 219 880 502 662 278\n",
      " 212 379 413 207  61 919 384 693  80 934 741 918 111 235 684 407  53 762\n",
      " 397 821 598 796 670 457 997 482 580  63 839 780 775 735 737 360  24 575\n",
      "  58 965 287 208 698 116 658  91 797  82 501 666 571 872 858 376  84 470\n",
      " 712 555 542 833 689 229 607  93 851 267 857 281 757 272 136 181 622 347\n",
      " 655 259 140 318  39 430 299 215 876 275 865 497 434 334 629 503   7 887\n",
      " 101  13 496 967  59 686  16 873 692 955 776 663  62 295 853 590 372 979\n",
      " 939 711 836  25 989  32 942 814 238 285 220 127 592 346 789 486 528 928\n",
      " 173 164 324 389  54 717 440 153 479 307 132 226 422 476  19  34 331   5\n",
      " 303 843 896  89 210 128 323 471 509 458 708 573 297 409 260 751 317 428\n",
      " 954 782 130 924 816 976 630 861 802 763  66 369 188 724 572 927 638 563\n",
      " 114 467 558 174 122 498 344 946 852 298 998 480 125 286  33 170 392 767\n",
      " 383 697 774 600 314 701  47 644 585 529 909 291 901 231 703 886  92 589\n",
      " 289 199 321 254 393 261 932 725 191 895 971  50 401  56 772 419  28  67\n",
      " 256 675 329 433 355 336 448 593 995  21  15 804 373 964 532 499  88 348\n",
      " 730 411 793   2 356 641 545 325  77 416 791 469 661 177 461 345 777 311\n",
      " 160 683 305 838 870 991 567 165 799 835 562  79  30 566 898 949 747 129\n",
      " 405 243 706 746 306 903 798 282 878 900 786 168 385 734 104 672 639 616\n",
      " 704 770 429 657 613 603 844 650 124 803 491 812 520 485 253 193 161  48\n",
      " 227 139 443 487 474 781 374 511 512 983 676 671 959 999 258 624 194 618\n",
      " 710 930  65 834 313 301 251  95 576 636 721  99 522 418 106 326 987  70\n",
      " 783 453 818 495 242 696 530 406 945 879 473 547 539 827 902 578 544 914\n",
      " 185 718 859 131 484 150 941 621 274 366 925 138 358 654 268 642 842 862\n",
      " 206 488 605 510 773 526 144 893 940  10 202 134 760 516 950 198 982 884\n",
      " 612 421 845 556 561 609 349 699 151 113 943  51   6 899   4 753 740 956\n",
      " 236 341 223 733 459 141 246 665 155 957 439 608  36   8 455 477 707 883\n",
      " 923 316  68 587 926 550 720 126 403 640 343 953 182 620 766 468 387 338\n",
      " 869  76 695 677  83 894 395 410 840 635  44 362 631 390 483 302 417 460\n",
      " 436  64 523 176 492 353 149  22 441 154 602 337 420 228  60 963 408 551\n",
      "  12 146 745 864 981 196  78 559 908 273 860 192 252 810 972 415 668 447\n",
      " 280 868  46   9 435 604 610 335 454 445 205 381 817 750 716 889 216 973\n",
      " 752 742 534 103 152 382 112 935 646  71 990 651 611 508 634 808 690 984\n",
      "  18 427 109 743 552 538 320 913 359 213  23 936 244 938 525 715 368 744\n",
      " 705 214 875 606  69 727   0 535 377 292 396 505 755 664 830 115 464 623\n",
      " 648 536 133  87 850 568 398 885  72 183 340 819 361 970 847 294 921 962\n",
      " 107 904 423  49 518 462 974 569 570 906 952 831 211 673 332  45 557 595\n",
      " 549 186 308 874 907 438 929 795 241 863  75  42 765  35 591 915 771 209\n",
      " 296 265 284 688 758 948 197 826 687 822 117 917 319 157 749 304 728  97\n",
      " 996  37 478 978 626 276 637 507 548 792 449 722 145 279 531 330 897 515\n",
      " 431 554 969 290 159 414 537 232 805 911]\n"
     ]
    }
   ],
   "source": [
    "# now load those arrays back in\n",
    "with open(\"test.npy\", \"rb\") as file:        # the order at which the arrays were saved is preserved!\n",
    "    a = np.load(file)\n",
    "    b = np.load(file)\n",
    "\n",
    "print(a)\n",
    "print(b)"
   ]
  },
  {
   "cell_type": "markdown",
   "metadata": {},
   "source": [
    "* Memorymaps: In case your are memory limited"
   ]
  },
  {
   "cell_type": "code",
   "execution_count": 154,
   "metadata": {},
   "outputs": [],
   "source": [
    "# lets say we have a very large file, perhaps 10GB in size\n",
    "file = \"/fred/oz002/tdial/HTR_paper_data/230708/230708_calib_I.npy\"     # SIZE -> ~10 GB\n",
    "# NOTE: you will not have access to this specific file, this is just for demonstrative purposes only, this can be any large file!\n",
    "\n",
    "# now lets load in using np.load\n",
    "a = np.load(file, mmap_mode = 'r')      # mmap_mode = 'r' means load in this file in read-only mode\n",
    "\n"
   ]
  },
  {
   "cell_type": "code",
   "execution_count": 156,
   "metadata": {},
   "outputs": [
    {
     "name": "stdout",
     "output_type": "stream",
     "text": [
      "[ 0.36547863 -0.08134608 -0.4068808  ...  0.08859127 -0.95454574\n",
      " -1.0632687 ]\n"
     ]
    }
   ],
   "source": [
    "# If I want a specific bit of data, i can index this memory map and do so\n",
    "# indexing a memory map will copy the data (same with .copy())\n",
    "print(a[1])     # will only load in that bit of data\n",
    "\n"
   ]
  },
  {
   "cell_type": "markdown",
   "metadata": {},
   "source": [
    "NOTE: many numpy functions that manipulate array strides, shapes ect. wont work with memory maps, so keep in mind."
   ]
  },
  {
   "cell_type": "markdown",
   "metadata": {},
   "source": [
    "# THATS ALL FOR NOW...\n",
    "Do go through some of the numpy tutorials online as well as there documentation, I cannot go through all of it in 1 hour. But all the basics are here. GOOD LUCK!"
   ]
  },
  {
   "cell_type": "markdown",
   "metadata": {},
   "source": []
  }
 ],
 "metadata": {
  "kernelspec": {
   "display_name": "CnC",
   "language": "python",
   "name": "python3"
  },
  "language_info": {
   "codemirror_mode": {
    "name": "ipython",
    "version": 3
   },
   "file_extension": ".py",
   "mimetype": "text/x-python",
   "name": "python",
   "nbconvert_exporter": "python",
   "pygments_lexer": "ipython3",
   "version": "3.9.18"
  }
 },
 "nbformat": 4,
 "nbformat_minor": 2
}
